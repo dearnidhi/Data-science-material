{
  "nbformat": 4,
  "nbformat_minor": 0,
  "metadata": {
    "colab": {
      "provenance": []
    },
    "kernelspec": {
      "name": "python3",
      "display_name": "Python 3"
    },
    "language_info": {
      "name": "python"
    }
  },
  "cells": [
    {
      "cell_type": "markdown",
      "source": [
        "#1. Tokenization\n",
        "#Tokenization is the process of breaking text into individual words or sentences.\n",
        "# Explanation:\n",
        "# Downloading 'punkt': nltk.download('punkt') downloads the Punkt tokenizer models, which are pre-trained models for tokenizing text.\n",
        "# Tokenizing Text: word_tokenize(text) splits the text into individual words and punctuation marks.\n"
      ],
      "metadata": {
        "id": "oFJp-MiwyJF_"
      }
    },
    {
      "cell_type": "code",
      "execution_count": 2,
      "metadata": {
        "colab": {
          "base_uri": "https://localhost:8080/"
        },
        "id": "iPP4x-YYxCux",
        "outputId": "b88c1a47-5887-49a8-a113-1a04a4bca83d"
      },
      "outputs": [
        {
          "output_type": "stream",
          "name": "stdout",
          "text": [
            "['Hello', 'world', '!', 'Welcome', 'to', 'NLP', '.']\n"
          ]
        },
        {
          "output_type": "stream",
          "name": "stderr",
          "text": [
            "[nltk_data] Downloading package punkt to /root/nltk_data...\n",
            "[nltk_data]   Package punkt is already up-to-date!\n"
          ]
        }
      ],
      "source": [
        "\n",
        "import nltk\n",
        "nltk.download('punkt')\n",
        "from nltk.tokenize import word_tokenize\n",
        "\n",
        "text = \"Hello world! Welcome to NLP.\"\n",
        "tokens = word_tokenize(text)\n",
        "print(tokens)"
      ]
    },
    {
      "cell_type": "markdown",
      "source": [
        "#2. Removing Stop Words\n",
        "Stop words are common words that are often removed from text data."
      ],
      "metadata": {
        "id": "20QvY97lyVfj"
      }
    },
    {
      "cell_type": "code",
      "source": [
        "import nltk\n",
        "from nltk.corpus import stopwords\n",
        "nltk.download('stopwords')\n",
        "\n",
        "stop_words = set(stopwords.words('english'))\n",
        "words = word_tokenize(\"This is a simple NLP example.\")\n",
        "filtered_words = [word for word in words if word.lower() not in stop_words]\n",
        "print(filtered_words)\n"
      ],
      "metadata": {
        "colab": {
          "base_uri": "https://localhost:8080/"
        },
        "id": "f20W12ikxoIh",
        "outputId": "96b3b187-3372-439f-8c7b-993c90327206"
      },
      "execution_count": 3,
      "outputs": [
        {
          "output_type": "stream",
          "name": "stdout",
          "text": [
            "['simple', 'NLP', 'example', '.']\n"
          ]
        },
        {
          "output_type": "stream",
          "name": "stderr",
          "text": [
            "[nltk_data] Downloading package stopwords to /root/nltk_data...\n",
            "[nltk_data]   Unzipping corpora/stopwords.zip.\n"
          ]
        }
      ]
    },
    {
      "cell_type": "markdown",
      "source": [
        "#3. Stemming\n",
        "Stemming is the process of reducing words to their base or root form.\n"
      ],
      "metadata": {
        "id": "3K7e1Fyxzfls"
      }
    },
    {
      "cell_type": "code",
      "source": [
        "\n",
        "from nltk.stem import PorterStemmer\n",
        "\n",
        "stemmer = PorterStemmer()\n",
        "words = [\"running\", \"jumps\", \"easily\", \"fairly\"]\n",
        "stemmed_words = [stemmer.stem(word) for word in words]\n",
        "print(stemmed_words)"
      ],
      "metadata": {
        "colab": {
          "base_uri": "https://localhost:8080/"
        },
        "id": "VHYYwV9EyfO5",
        "outputId": "51e62fba-5d80-4da4-e35d-aa1999551aa1"
      },
      "execution_count": 4,
      "outputs": [
        {
          "output_type": "stream",
          "name": "stdout",
          "text": [
            "['run', 'jump', 'easili', 'fairli']\n"
          ]
        }
      ]
    },
    {
      "cell_type": "markdown",
      "source": [
        "#4. Lemmatization\n",
        "Lemmatization is the process of reducing words to their base or dictionary form."
      ],
      "metadata": {
        "id": "wyu-tkI5zqXi"
      }
    },
    {
      "cell_type": "code",
      "source": [
        "from nltk.stem import WordNetLemmatizer\n",
        "nltk.download('wordnet')\n",
        "\n",
        "lemmatizer = WordNetLemmatizer()\n",
        "words = [\"running\", \"jumps\", \"easily\", \"fairly\"]\n",
        "lemmatized_words = [lemmatizer.lemmatize(word) for word in words]\n",
        "print(lemmatized_words)\n"
      ],
      "metadata": {
        "colab": {
          "base_uri": "https://localhost:8080/"
        },
        "id": "ltD60XLVzj_e",
        "outputId": "17507483-d88e-4f46-e69c-dc4a85acf475"
      },
      "execution_count": 5,
      "outputs": [
        {
          "output_type": "stream",
          "name": "stderr",
          "text": [
            "[nltk_data] Downloading package wordnet to /root/nltk_data...\n"
          ]
        },
        {
          "output_type": "stream",
          "name": "stdout",
          "text": [
            "['running', 'jump', 'easily', 'fairly']\n"
          ]
        }
      ]
    },
    {
      "cell_type": "markdown",
      "source": [
        "#5. Part-of-Speech Tagging\n",
        "POS tagging assigns parts of speech to each word in a sentence."
      ],
      "metadata": {
        "id": "2H794O5Q0BVF"
      }
    },
    {
      "cell_type": "markdown",
      "source": [
        "DT: Determiner (e.g., \"the\", \"a\")\n",
        "JJ: Adjective (e.g., \"quick\", \"lazy\")\n",
        "NN: Noun, singular or mass (e.g., \"fox\", \"dog\")\n",
        "VBZ: Verb, 3rd person singular present (e.g., \"jumps\")\n",
        "IN: Preposition or subordinating conjunction (e.g., \"over\")\n",
        ".: Punctuation mark (e.g., \".\")"
      ],
      "metadata": {
        "id": "47zB4Pt20m4I"
      }
    },
    {
      "cell_type": "code",
      "source": [
        "nltk.download('averaged_perceptron_tagger')\n",
        "\n",
        "sentence = \"The quick brown fox jumps over the lazy dog.\"\n",
        "pos_tags = nltk.pos_tag(word_tokenize(sentence))\n",
        "print(pos_tags)\n"
      ],
      "metadata": {
        "colab": {
          "base_uri": "https://localhost:8080/"
        },
        "id": "6Dss28tpz6uR",
        "outputId": "fadd83df-1c1f-4be8-afed-70998fb2e5fe"
      },
      "execution_count": 6,
      "outputs": [
        {
          "output_type": "stream",
          "name": "stderr",
          "text": [
            "[nltk_data] Downloading package averaged_perceptron_tagger to\n",
            "[nltk_data]     /root/nltk_data...\n"
          ]
        },
        {
          "output_type": "stream",
          "name": "stdout",
          "text": [
            "[('The', 'DT'), ('quick', 'JJ'), ('brown', 'NN'), ('fox', 'NN'), ('jumps', 'VBZ'), ('over', 'IN'), ('the', 'DT'), ('lazy', 'JJ'), ('dog', 'NN'), ('.', '.')]\n"
          ]
        },
        {
          "output_type": "stream",
          "name": "stderr",
          "text": [
            "[nltk_data]   Unzipping taggers/averaged_perceptron_tagger.zip.\n"
          ]
        }
      ]
    },
    {
      "cell_type": "markdown",
      "source": [
        "#6. Named Entity Recognition\n",
        "NER identifies named entities in text."
      ],
      "metadata": {
        "id": "DoFbudId02mK"
      }
    },
    {
      "cell_type": "code",
      "source": [
        "#This imports the spaCy library and loads the English language model (\"en_core_web_sm\").\n",
        "\n",
        "import spacy\n",
        "nlp = spacy.load(\"en_core_web_sm\")\n",
        "\n",
        "text = \"Apple is looking at buying U.K. startup for $1 billion\"\n",
        "doc = nlp(text)\n",
        "#Iterates over the entities recognized in the processed document (doc) and prints each entity's text (ent.text) along with its label (ent.label_).\n",
        "for ent in doc.ents:\n",
        "    print(ent.text, ent.label_)\n"
      ],
      "metadata": {
        "colab": {
          "base_uri": "https://localhost:8080/"
        },
        "id": "jZu9PfsM0F0D",
        "outputId": "dca50307-1bc4-4264-ed31-043075bc2fdd"
      },
      "execution_count": 7,
      "outputs": [
        {
          "output_type": "stream",
          "name": "stdout",
          "text": [
            "Apple ORG\n",
            "U.K. GPE\n",
            "$1 billion MONEY\n"
          ]
        }
      ]
    },
    {
      "cell_type": "markdown",
      "source": [
        "Output Explanation\n",
        "The output shows the recognized entities and their corresponding labels:\n",
        "\n",
        "Apple: Recognized as an organization (ORG).\n",
        "U.K.: Recognized as a geopolitical entity (GPE).\n",
        "$1 billion: Recognized as a monetary value (MONEY)."
      ],
      "metadata": {
        "id": "lXVYdaNN1tYq"
      }
    },
    {
      "cell_type": "code",
      "source": [
        "# 7. Sentence Tokenization\n",
        "# Sentence tokenization splits text into sentences.\n",
        "\n",
        "from nltk.tokenize import sent_tokenize\n",
        "\n",
        "text = \"Hello world! How are you today? Welcome to NLP.\"\n",
        "sentences = sent_tokenize(text)\n",
        "print(sentences)"
      ],
      "metadata": {
        "colab": {
          "base_uri": "https://localhost:8080/"
        },
        "id": "mTsZKBDk06sI",
        "outputId": "67515cec-e06b-44fe-88bf-a1fa01b19b6d"
      },
      "execution_count": 8,
      "outputs": [
        {
          "output_type": "stream",
          "name": "stdout",
          "text": [
            "['Hello world!', 'How are you today?', 'Welcome to NLP.']\n"
          ]
        }
      ]
    },
    {
      "cell_type": "code",
      "source": [
        "# 8. Text Normalization\n",
        "# Text normalization converts text to a standard format.\n",
        "\n",
        "import re\n",
        "\n",
        "text = \"This is an example text with punctuation, numbers 123 and UPPERCASE letters.\"\n",
        "normalized_text = re.sub(r'\\d+', '', text).lower()\n",
        "print(normalized_text)"
      ],
      "metadata": {
        "colab": {
          "base_uri": "https://localhost:8080/"
        },
        "id": "k-hQI5Uf19q_",
        "outputId": "0e984082-68e1-406b-c364-60ea81eae513"
      },
      "execution_count": 9,
      "outputs": [
        {
          "output_type": "stream",
          "name": "stdout",
          "text": [
            "this is an example text with punctuation, numbers  and uppercase letters.\n"
          ]
        }
      ]
    },
    {
      "cell_type": "markdown",
      "source": [
        "re.sub(r'\\d+', '', text): Uses the re.sub() function to substitute (replace) all sequences of digits (\\d+) in the text with an empty string '', effectively removing the digits.\n",
        ".lower(): Converts the resulting text to lowercase."
      ],
      "metadata": {
        "id": "0NBhmWgY2gIG"
      }
    },
    {
      "cell_type": "markdown",
      "source": [
        "\n",
        "Text normalization is an important preprocessing step in natural language processing tasks. While this example focuses on removing digits and converting text to lowercase"
      ],
      "metadata": {
        "id": "JuzQ66_l2sIi"
      }
    },
    {
      "cell_type": "code",
      "source": [
        "#9. Spell Checking\n",
        "#Spell checking corrects spelling errors in text.\n",
        "\n",
        "from textblob import TextBlob\n",
        "\n",
        "text = \"I havv a spelking errror.\"\n",
        "blob = TextBlob(text)\n",
        "print(blob.correct())\n"
      ],
      "metadata": {
        "colab": {
          "base_uri": "https://localhost:8080/"
        },
        "id": "R5ZJAzG03AAX",
        "outputId": "25028a65-2d1e-4da0-9560-36595c2f6a59"
      },
      "execution_count": 12,
      "outputs": [
        {
          "output_type": "stream",
          "name": "stdout",
          "text": [
            "I have a speaking error.\n"
          ]
        }
      ]
    },
    {
      "cell_type": "code",
      "source": [],
      "metadata": {
        "id": "IRGHsUhV4aLQ"
      },
      "execution_count": null,
      "outputs": []
    }
  ]
}