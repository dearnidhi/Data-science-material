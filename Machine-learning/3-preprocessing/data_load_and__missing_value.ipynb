{
  "nbformat": 4,
  "nbformat_minor": 0,
  "metadata": {
    "colab": {
      "provenance": []
    },
    "kernelspec": {
      "name": "python3",
      "display_name": "Python 3"
    },
    "language_info": {
      "name": "python"
    }
  },
  "cells": [
    {
      "cell_type": "markdown",
      "source": [
        "#1. Load Data\n"
      ],
      "metadata": {
        "id": "AGm5iUEPnfvU"
      }
    },
    {
      "cell_type": "code",
      "source": [
        "import pandas as pd\n",
        "import numpy as np\n",
        "\n",
        "# Creating a sample dataset\n",
        "data = {\n",
        "    'Age': [25, 30, None, 40, 150, 35, -10, 70, 80, 20, 400],\n",
        "    'Salary': [50000, 54000, 58000, 62000, -1000, 70000, None, 78000, 82000, 86000, 1200000],\n",
        "    'Gender': ['Male', 'Female', 'female', 'Male', 'Female', 'FeMale', 'Male', 'Female', 'female', None, 'male'],\n",
        "    'Purchased': ['No', 'Yes', 'No', 'No', 'Yes', 'Yes', 'No', 'Yes', 'Yes', 'No', 'No']\n",
        "}\n",
        "\n",
        "df = pd.DataFrame(data)\n",
        "print(\"Original Data:\")\n",
        "print(df)\n"
      ],
      "metadata": {
        "colab": {
          "base_uri": "https://localhost:8080/"
        },
        "id": "eza3wGnrnhTb",
        "outputId": "651fe077-8478-4d91-a81a-fd275032db03"
      },
      "execution_count": 26,
      "outputs": [
        {
          "output_type": "stream",
          "name": "stdout",
          "text": [
            "Original Data:\n",
            "      Age     Salary  Gender Purchased\n",
            "0    25.0    50000.0    Male        No\n",
            "1    30.0    54000.0  Female       Yes\n",
            "2     NaN    58000.0  female        No\n",
            "3    40.0    62000.0    Male        No\n",
            "4   150.0    -1000.0  Female       Yes\n",
            "5    35.0    70000.0  FeMale       Yes\n",
            "6   -10.0        NaN    Male        No\n",
            "7    70.0    78000.0  Female       Yes\n",
            "8    80.0    82000.0  female       Yes\n",
            "9    20.0    86000.0    None        No\n",
            "10  400.0  1200000.0    male        No\n"
          ]
        }
      ]
    },
    {
      "cell_type": "markdown",
      "source": [
        "# 2. Initial Exploration\n",
        "Exploring the data to understand its structure."
      ],
      "metadata": {
        "id": "5MA5oYEKnyui"
      }
    },
    {
      "cell_type": "code",
      "source": [
        "# Initial Exploration\n",
        "print(\"\\nData Summary:\")\n",
        "print(df.describe(include='all'))\n",
        "\n",
        "print(\"\\nMissing Values:\")\n",
        "print(df.isnull().sum())\n"
      ],
      "metadata": {
        "colab": {
          "base_uri": "https://localhost:8080/"
        },
        "id": "fVYzYSFtnlMM",
        "outputId": "dd9b7353-096e-4777-b458-f49403669a14"
      },
      "execution_count": 27,
      "outputs": [
        {
          "output_type": "stream",
          "name": "stdout",
          "text": [
            "\n",
            "Data Summary:\n",
            "               Age        Salary Gender Purchased\n",
            "count    10.000000  1.000000e+01     10        11\n",
            "unique         NaN           NaN      5         2\n",
            "top            NaN           NaN   Male        No\n",
            "freq           NaN           NaN      3         6\n",
            "mean     84.000000  1.739000e+05    NaN       NaN\n",
            "std     119.298878  3.613734e+05    NaN       NaN\n",
            "min     -10.000000 -1.000000e+03    NaN       NaN\n",
            "25%      26.250000  5.500000e+04    NaN       NaN\n",
            "50%      37.500000  6.600000e+04    NaN       NaN\n",
            "75%      77.500000  8.100000e+04    NaN       NaN\n",
            "max     400.000000  1.200000e+06    NaN       NaN\n",
            "\n",
            "Missing Values:\n",
            "Age          1\n",
            "Salary       1\n",
            "Gender       1\n",
            "Purchased    0\n",
            "dtype: int64\n"
          ]
        }
      ]
    },
    {
      "cell_type": "code",
      "source": [
        "# Standardizing 'Gender' column\n",
        "df['Gender'] = df['Gender'].str.capitalize()\n"
      ],
      "metadata": {
        "id": "TpokVK19FbOL"
      },
      "execution_count": 28,
      "outputs": []
    },
    {
      "cell_type": "markdown",
      "source": [
        "#3. Handle Missing Values\n",
        " inplace=True: The original DataFrame is modified directly"
      ],
      "metadata": {
        "id": "a3wWnitJoRcf"
      }
    },
    {
      "cell_type": "code",
      "source": [
        "# Handle Missing Values\n",
        "# Impute missing numerical values with the mean\n",
        "\n",
        "\n",
        "# Fill missing values\n",
        "df['Age'].fillna(df['Age'].mean(), inplace=True)\n",
        "df['Salary'].fillna(df['Salary'].median(), inplace=True)\n",
        "df['Gender'].fillna(df['Gender'].mode()[0], inplace=True)\n",
        "\n",
        "print(\"\\nData after Handling Missing Values:\")\n",
        "print(df)\n"
      ],
      "metadata": {
        "colab": {
          "base_uri": "https://localhost:8080/"
        },
        "id": "WBHgelTNn8tA",
        "outputId": "654ccbc5-ce25-45e8-c7ee-838d4efe6ae5"
      },
      "execution_count": 29,
      "outputs": [
        {
          "output_type": "stream",
          "name": "stdout",
          "text": [
            "\n",
            "Data after Handling Missing Values:\n",
            "      Age     Salary  Gender Purchased\n",
            "0    25.0    50000.0    Male        No\n",
            "1    30.0    54000.0  Female       Yes\n",
            "2    84.0    58000.0  Female        No\n",
            "3    40.0    62000.0    Male        No\n",
            "4   150.0    -1000.0  Female       Yes\n",
            "5    35.0    70000.0  Female       Yes\n",
            "6   -10.0    66000.0    Male        No\n",
            "7    70.0    78000.0  Female       Yes\n",
            "8    80.0    82000.0  Female       Yes\n",
            "9    20.0    86000.0  Female        No\n",
            "10  400.0  1200000.0    Male        No\n"
          ]
        }
      ]
    },
    {
      "cell_type": "code",
      "source": [],
      "metadata": {
        "id": "8SMZAia-LbrV"
      },
      "execution_count": null,
      "outputs": []
    }
  ]
}