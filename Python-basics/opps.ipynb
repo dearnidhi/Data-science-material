{
  "nbformat": 4,
  "nbformat_minor": 0,
  "metadata": {
    "colab": {
      "provenance": []
    },
    "kernelspec": {
      "name": "python3",
      "display_name": "Python 3"
    },
    "language_info": {
      "name": "python"
    }
  },
  "cells": [
    {
      "cell_type": "markdown",
      "source": [
        "*INHERITENCE BASIC SYNTAX*"
      ],
      "metadata": {
        "id": "ZmsgV4wcNFCZ"
      }
    },
    {
      "cell_type": "code",
      "source": [
        "Class BaseClass:\n",
        "    {Body}\n",
        "Class DerivedClass(BaseClass):\n",
        "    {Body}"
      ],
      "metadata": {
        "id": "TVBQl-7ENdRp"
      },
      "execution_count": null,
      "outputs": []
    },
    {
      "cell_type": "markdown",
      "source": [],
      "metadata": {
        "id": "Wxhb5BTdNsR1"
      }
    },
    {
      "cell_type": "markdown",
      "source": [],
      "metadata": {
        "id": "ZC0-IdWANsTl"
      }
    },
    {
      "cell_type": "markdown",
      "source": [
        "**Creating a Parent Class**"
      ],
      "metadata": {
        "id": "BltJvE27NsVX"
      }
    },
    {
      "cell_type": "code",
      "source": [
        "# A Python program to demonstrate inheritance\n",
        "class Person(object):\n",
        "\n",
        "# Constructor\n",
        "  def __init__(self, name, id):\n",
        "\t  self.name = name\n",
        "\t  self.id = id\n",
        "\n",
        "# To check if this person is an employee\n",
        "  def Display(self):\n",
        "\t  print(self.name, self.id)\n",
        "\n",
        "\n",
        "# Driver code\n",
        "emp = Person(\"Siddhi\", 00) # An Object of Person\n",
        "emp.Display()\n"
      ],
      "metadata": {
        "colab": {
          "base_uri": "https://localhost:8080/"
        },
        "id": "bOYGyw9U-jYe",
        "outputId": "2167e3fc-86da-4383-f7b1-470b806e1ed3"
      },
      "execution_count": null,
      "outputs": [
        {
          "output_type": "stream",
          "name": "stdout",
          "text": [
            "Siddhi 0\n"
          ]
        }
      ]
    },
    {
      "cell_type": "markdown",
      "source": [
        "**Creating a Child Class**"
      ],
      "metadata": {
        "id": "hFwwK9RyM-Dq"
      }
    },
    {
      "cell_type": "code",
      "source": [
        "class Emp(Person):\n",
        "\n",
        "  def Print(self):\n",
        "\t  print(\"Shaily is cute\")\n",
        "\n",
        "Emp_details = Emp(\"Siddhi\", 106)\n",
        "\n",
        "# calling parent class function\n",
        "Emp_details.Display()\n",
        "\n",
        "# Calling child class function\n",
        "Emp_details.Print()\n"
      ],
      "metadata": {
        "colab": {
          "base_uri": "https://localhost:8080/"
        },
        "id": "hxhGJC-EBJ8u",
        "outputId": "61be24fd-4f25-4248-ffd0-70259a7b44a9"
      },
      "execution_count": null,
      "outputs": [
        {
          "output_type": "stream",
          "name": "stdout",
          "text": [
            "Siddhi 106\n",
            "Shaily is cute\n"
          ]
        }
      ]
    },
    {
      "cell_type": "markdown",
      "source": [
        "Example of Inheritance in Python"
      ],
      "metadata": {
        "id": "4UxsDsDsOOe6"
      }
    },
    {
      "cell_type": "code",
      "source": [
        "# A Python program to demonstrate inheritance\n",
        "\n",
        "# Base or Super class. Note object in bracket.\n",
        "# (Generally, object is made ancestor of all classes)\n",
        "# In Python 3.x \"class Person\" is\n",
        "# equivalent to \"class Person(object)\"\n",
        "\n",
        "\n",
        "class Person(object):\n",
        "\n",
        "\t# Constructor\n",
        "\tdef __init__(self, name):\n",
        "\t\tself.name = name\n",
        "\n",
        "\t# To get name\n",
        "\tdef getName(self):\n",
        "\t\treturn self.name\n",
        "\n",
        "\t# To check if this person is an employee\n",
        "\tdef isEmployee(self):\n",
        "\t\treturn False\n",
        "\n",
        "\n",
        "# Inherited or Subclass (Note Person in bracket)\n",
        "class Employee(Person):\n",
        "\n",
        "\t# Here we return true\n",
        "\tdef isEmployee(self):\n",
        "\t\treturn True\n",
        "\n",
        "\n",
        "# Driver code\n",
        "emp = Person(\"Siddhi\") # An Object of Person\n",
        "print(emp.getName(), emp.isEmployee())\n",
        "\n",
        "emp = Employee(\"Manan\") # An Object of Employee\n",
        "print(emp.getName(), emp.isEmployee())\n"
      ],
      "metadata": {
        "colab": {
          "base_uri": "https://localhost:8080/"
        },
        "id": "shsH73ioCOuO",
        "outputId": "464753a2-3318-46c4-8777-0816d62c7946"
      },
      "execution_count": null,
      "outputs": [
        {
          "output_type": "stream",
          "name": "stdout",
          "text": [
            "Siddhi False\n",
            "Manan True\n"
          ]
        }
      ]
    },
    {
      "cell_type": "markdown",
      "source": [
        "**POLYMORPHISM BASICS**"
      ],
      "metadata": {
        "id": "JCJdPC05Meva"
      }
    },
    {
      "cell_type": "code",
      "source": [
        "# Python program to demonstrate in-built polymorphic functions\n",
        "\n",
        "# len() being used for a string\n",
        "print(len(\"siddharth\"))\n",
        "\n",
        "# len() being used for a list\n",
        "print(len([3, 0, 1, 0, 1, 0]))\n"
      ],
      "metadata": {
        "colab": {
          "base_uri": "https://localhost:8080/"
        },
        "id": "t8lAJ58fMblQ",
        "outputId": "2d9a7851-3d60-4363-8aca-b74c0991e4a6"
      },
      "execution_count": null,
      "outputs": [
        {
          "output_type": "stream",
          "name": "stdout",
          "text": [
            "9\n",
            "6\n"
          ]
        }
      ]
    },
    {
      "cell_type": "markdown",
      "source": [
        "Examples of user-defined polymorphic functions:"
      ],
      "metadata": {
        "id": "DHRJD76STn4u"
      }
    },
    {
      "cell_type": "code",
      "source": [
        "# A simple Python function to demonstrate\n",
        "# Polymorphism\n",
        "\n",
        "def add(x, y, z = 0):\n",
        "    return x + y+z\n",
        "\n",
        "# Driver code\n",
        "print(add(2, 3))\n",
        "print(add(2, 3, 4))\n"
      ],
      "metadata": {
        "id": "oXP5h9EjMb1v",
        "colab": {
          "base_uri": "https://localhost:8080/"
        },
        "outputId": "9f2c1eec-6b82-4048-bf3a-cdf20785ee39"
      },
      "execution_count": null,
      "outputs": [
        {
          "output_type": "stream",
          "name": "stdout",
          "text": [
            "5\n",
            "9\n"
          ]
        }
      ]
    },
    {
      "cell_type": "markdown",
      "source": [
        "Polymorphism with class methods:"
      ],
      "metadata": {
        "id": "q0CPJ1kgT60f"
      }
    },
    {
      "cell_type": "code",
      "source": [
        "class India():\n",
        "\tdef capital(self):\n",
        "\t\tprint(\"New Delhi is the capital of India.\")\n",
        "\n",
        "\tdef language(self):\n",
        "\t\tprint(\"Hindi is the most widely spoken language of India.\")\n",
        "\n",
        "\tdef type(self):\n",
        "\t\tprint(\"India is a developing country.\")\n",
        "\n",
        "class USA():\n",
        "\tdef capital(self):\n",
        "\t\tprint(\"Washington, D.C. is the capital of USA.\")\n",
        "\n",
        "\tdef language(self):\n",
        "\t\tprint(\"English is the primary language of USA.\")\n",
        "\n",
        "\tdef type(self):\n",
        "\t\tprint(\"USA is a developed country.\")\n",
        "\n",
        "obj_ind = India()\n",
        "obj_usa = USA()\n",
        "for country in (obj_ind, obj_usa):\n",
        "\tcountry.capital()\n",
        "\tcountry.language()\n",
        "\tcountry.type()\n"
      ],
      "metadata": {
        "id": "TBo40YLsMb4_",
        "colab": {
          "base_uri": "https://localhost:8080/"
        },
        "outputId": "9f9f2257-1eee-4437-d2fd-29476e89a7af"
      },
      "execution_count": null,
      "outputs": [
        {
          "output_type": "stream",
          "name": "stdout",
          "text": [
            "New Delhi is the capital of India.\n",
            "Hindi is the most widely spoken language of India.\n",
            "India is a developing country.\n",
            "Washington, D.C. is the capital of USA.\n",
            "English is the primary language of USA.\n",
            "USA is a developed country.\n"
          ]
        }
      ]
    },
    {
      "cell_type": "markdown",
      "source": [
        "Polymorphism with a Function and objects:"
      ],
      "metadata": {
        "id": "R4Z0Pln7US-q"
      }
    },
    {
      "cell_type": "code",
      "source": [
        "def func(obj):\n",
        "\tobj.capital()\n",
        "\tobj.language()\n",
        "\tobj.type()\n",
        "\n",
        "obj_ind = India()\n",
        "obj_usa = USA()\n",
        "\n",
        "func(obj_ind)\n",
        "func(obj_usa)\n"
      ],
      "metadata": {
        "id": "-dTLX8ojMb8A",
        "colab": {
          "base_uri": "https://localhost:8080/"
        },
        "outputId": "4c97db68-62fa-43dd-dc18-7d27d99ad0a3"
      },
      "execution_count": null,
      "outputs": [
        {
          "output_type": "stream",
          "name": "stdout",
          "text": [
            "New Delhi is the capital of India.\n",
            "Hindi is the most widely spoken language of India.\n",
            "India is a developing country.\n",
            "Washington, D.C. is the capital of USA.\n",
            "English is the primary language of USA.\n",
            "USA is a developed country.\n"
          ]
        }
      ]
    },
    {
      "cell_type": "markdown",
      "source": [
        "Polymorphism with Inheritance:"
      ],
      "metadata": {
        "id": "vAPZ1Y5cVB5y"
      }
    },
    {
      "cell_type": "code",
      "source": [
        "class Bird:\n",
        "  def intro(self):\n",
        "\t  print(\"There are many types of birds.\")\n",
        "\n",
        "  def flight(self):\n",
        "\t  print(\"Most of the birds can fly but some cannot.\")\n",
        "\n",
        "class sparrow(Bird):\n",
        "  def flight(self):\n",
        "\t  print(\"Sparrows can fly.\")\n",
        "\n",
        "class ostrich(Bird):\n",
        "  def flight(self):\n",
        "\t  print(\"Ostriches cannot fly.\")\n",
        "\n",
        "obj_bird = Bird()\n",
        "obj_spr = sparrow()\n",
        "obj_ost = ostrich()\n",
        "\n",
        "obj_bird.intro()\n",
        "obj_bird.flight()\n",
        "\n",
        "obj_spr.intro()\n",
        "obj_spr.flight()\n",
        "\n",
        "obj_ost.intro()\n",
        "obj_ost.flight()\n"
      ],
      "metadata": {
        "id": "e38IbjynMb_B",
        "colab": {
          "base_uri": "https://localhost:8080/"
        },
        "outputId": "efefd775-6ca8-4829-8812-582346f5bf2c"
      },
      "execution_count": null,
      "outputs": [
        {
          "output_type": "stream",
          "name": "stdout",
          "text": [
            "There are many types of birds.\n",
            "Most of the birds can fly but some cannot.\n",
            "There are many types of birds.\n",
            "Sparrows can fly.\n",
            "There are many types of birds.\n",
            "Ostriches cannot fly.\n"
          ]
        }
      ]
    }
  ]
}